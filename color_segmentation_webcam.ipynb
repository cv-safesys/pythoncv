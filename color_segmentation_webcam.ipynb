{
 "cells": [
  {
   "cell_type": "code",
   "execution_count": 1,
   "metadata": {},
   "outputs": [],
   "source": [
    "import cv2\n",
    "import numpy as np\n",
    "def nothing(x):\n",
    "    pass\n",
    "cap = cv2.VideoCapture(0)\n",
    "cv2.namedWindow(\"Trackbars\")\n",
    "cv2.createTrackbar(\"Min H\", \"Trackbars\", 0, 179, nothing)\n",
    "cv2.createTrackbar(\"Min S\", \"Trackbars\", 0, 255, nothing)\n",
    "cv2.createTrackbar(\"Min V\", \"Trackbars\", 0, 255, nothing)\n",
    "cv2.createTrackbar(\"Max H\", \"Trackbars\", 179, 179, nothing)\n",
    "cv2.createTrackbar(\"Max S\", \"Trackbars\", 255, 255, nothing)\n",
    "cv2.createTrackbar(\"Max V\", \"Trackbars\", 255, 255, nothing)\n",
    "while True:\n",
    "    _, frame = cap.read()\n",
    "    hsv = cv2.cvtColor(frame, cv2.COLOR_BGR2HSV)\n",
    "    l_h = cv2.getTrackbarPos(\"Min H\", \"Trackbars\")\n",
    "    l_s = cv2.getTrackbarPos(\"Min S\", \"Trackbars\")\n",
    "    l_v = cv2.getTrackbarPos(\"Min V\", \"Trackbars\")\n",
    "    u_h = cv2.getTrackbarPos(\"Max H\", \"Trackbars\")\n",
    "    u_s = cv2.getTrackbarPos(\"Max S\", \"Trackbars\")\n",
    "    u_v = cv2.getTrackbarPos(\"Max V\", \"Trackbars\")\n",
    "    lower_color = np.array([l_h, l_s, l_v])\n",
    "    upper_color = np.array([u_h, u_s, u_v])\n",
    "    mask = cv2.inRange(hsv, lower_color, upper_color)\n",
    "    result = cv2.bitwise_and(frame, frame, mask=mask)\n",
    "    cv2.imshow(\"frame\", frame)\n",
    "    cv2.imshow(\"mask\", mask)\n",
    "    cv2.imshow(\"result\", result)\n",
    "    key = cv2.waitKey(1)\n",
    "    if key == 27:\n",
    "        break\n",
    "cap.release()\n",
    "cv2.destroyAllWindows()"
   ]
  },
  {
   "cell_type": "code",
   "execution_count": null,
   "metadata": {},
   "outputs": [],
   "source": []
  },
  {
   "cell_type": "code",
   "execution_count": null,
   "metadata": {},
   "outputs": [],
   "source": []
  },
  {
   "cell_type": "code",
   "execution_count": null,
   "metadata": {},
   "outputs": [],
   "source": []
  },
  {
   "cell_type": "code",
   "execution_count": null,
   "metadata": {},
   "outputs": [],
   "source": []
  },
  {
   "cell_type": "code",
   "execution_count": null,
   "metadata": {},
   "outputs": [],
   "source": []
  },
  {
   "cell_type": "code",
   "execution_count": null,
   "metadata": {},
   "outputs": [],
   "source": []
  },
  {
   "cell_type": "code",
   "execution_count": null,
   "metadata": {},
   "outputs": [],
   "source": []
  }
 ],
 "metadata": {
  "kernelspec": {
   "display_name": "Python 3",
   "language": "python",
   "name": "python3"
  },
  "language_info": {
   "codemirror_mode": {
    "name": "ipython",
    "version": 3
   },
   "file_extension": ".py",
   "mimetype": "text/x-python",
   "name": "python",
   "nbconvert_exporter": "python",
   "pygments_lexer": "ipython3",
   "version": "3.8.2"
  }
 },
 "nbformat": 4,
 "nbformat_minor": 4
}
