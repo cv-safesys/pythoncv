{
 "cells": [
  {
   "cell_type": "code",
   "execution_count": null,
   "metadata": {},
   "outputs": [],
   "source": [
    "import cv2\n",
    "import matplotlib.pyplot as plt\n",
    "import numpy as np\n",
    "\n",
    "def resized(a):                #уменьшение размера\n",
    "    final_wide = 400\n",
    "    r = float(final_wide) / a.shape[1]\n",
    "    dim = (final_wide, int(a.shape[0] * r))\n",
    "    a = cv2.resize(a, dim, interpolation = cv2.INTER_AREA)\n",
    "    return a\n",
    "img0 = cv2.imread('C:/Users/acer/Documents/Python Scripts/man1.jpg')\n",
    "flags = [i for i in dir(cv2) if i.startswith('COLOR_')]\n",
    "img = cv2.cvtColor(img0, cv2.COLOR_BGR2RGB)\n",
    "hsv_img = cv2.cvtColor(img, cv2.COLOR_RGB2HSV)\n",
    "\n",
    "#поиск на изображении фрагментов оранжевого цвета\n",
    "light_orange = (0, 80, 130)\n",
    "dark_orange = (35, 255, 255)\n",
    "mask = cv2.inRange(hsv_img, light_orange, dark_orange)\n",
    "result = cv2.bitwise_and(img0, img0, mask=mask)\n",
    "images = [img0, mask, result]\n",
    "\n",
    "for i in range(3):\n",
    "    images[i]=resized(images[i])\n",
    "cv2.imshow(\"original\",images[0])\n",
    "cv2.imshow(\"color\",images[2])\n",
    "cv2.imshow(\"binary\",images[1])\n",
    "cv2.waitKey(0)\n"
   ]
  },
  {
   "cell_type": "code",
   "execution_count": null,
   "metadata": {},
   "outputs": [],
   "source": []
  }
 ],
 "metadata": {
  "kernelspec": {
   "display_name": "Python 3",
   "language": "python",
   "name": "python3"
  },
  "language_info": {
   "codemirror_mode": {
    "name": "ipython",
    "version": 3
   },
   "file_extension": ".py",
   "mimetype": "text/x-python",
   "name": "python",
   "nbconvert_exporter": "python",
   "pygments_lexer": "ipython3",
   "version": "3.8.2"
  }
 },
 "nbformat": 4,
 "nbformat_minor": 4
}
