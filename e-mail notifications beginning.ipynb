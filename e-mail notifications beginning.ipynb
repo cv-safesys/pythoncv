{
 "cells": [
  {
   "cell_type": "code",
   "execution_count": 12,
   "metadata": {},
   "outputs": [],
   "source": [
    "import smtplib                                              # Импортируем библиотеку по работе с SMTP\n",
    "import os                                                   \n",
    "import datetime\n",
    "import mimetypes                                            # Импорт класса для обработки неизвестных MIME-типов, базирующихся на расширении файла\n",
    "from email import encoders                                  # Импортируем энкодер\n",
    "from email.mime.image import MIMEImage                      \n",
    "\n",
    "\n",
    "def send_email(addr_to, msg_subj, msg_text, file):\n",
    "    addr_from = \"<our e-mail account>\"                         # Отправитель\n",
    "    password  = \"<our password>\"                                   # Пароль\n",
    "    msg = MIMEMultipart()                                        # Создаем сообщение\n",
    "    msg['From']    =  \"SAFETY SYSTEM<gloomyrobot@yandex.ru>\"     # Адресат\n",
    "    msg['To']      = addr_to                                     # Получатель\n",
    "    msg['Subject'] = msg_subj                                    # Тема сообщения\n",
    "\n",
    "    body = msg_text                                         \n",
    "    msg.attach(MIMEText(body, 'plain'))                     # Добавляем в сообщение текст\n",
    "    attach_file(msg, file)\n",
    "\n",
    "    #настраиваем этот блок для  почтового провайдера yandex почты\n",
    "    server = smtplib.SMTP_SSL('smtp.yandex.ru', 465)        # Создаем объект SMTP\n",
    "    server.login(addr_from, password)                       # Получаем доступ\n",
    "    server.send_message(msg)                                # Отправляем сообщение\n",
    "    server.quit()                                           # Выходим\n",
    "\n",
    "def attach_file(msg, filepath):                             # Функция по добавлению скриншота с камеры к сообщению\n",
    "    filename = os.path.basename(filepath)                   # Получаем только имя файла\n",
    "    ctype, encoding = mimetypes.guess_type(filepath)        # Определяем тип файла на основе его расширения\n",
    "    maintype, subtype = ctype.split('/', 1)                 # Получаем тип и подтип\n",
    "    if maintype == 'image':                               \n",
    "        with open(filepath, 'rb') as fp:\n",
    "            img = MIMEImage(fp.read(), _subtype=subtype)\n",
    "            fp.close()\n",
    "        img.add_header('Content-Disposition', 'attachment', filename='screenshot '+now.strftime(\"%d-%m-%Y %H:%M:%S\")) \n",
    "    msg.attach(img)                                        # Присоединяем файл к сообщению\n",
    "\n",
    "# Использование функции send_email()\n",
    "addr_to   = \"khlyupina.yuliya@gmail.com\"                                 \n",
    "file = 'C:/Users/acer/Documents/Python Scripts/img.jpg'              \n",
    "now = datetime.datetime.now()\n",
    "send_email(addr_to, \"Оповещение системы безопасности\", \\\n",
    "           \"ВНИМАНИЕ!\\nВ помещении обнаружен неопознанный сотрудник либо человек без специальной формы!\\nВремя обнаружения: \"+ \\\n",
    "           now.strftime(\"%d-%m-%Y %H:%M:%S\")+ \\\n",
    "           \"\\nВозможно, стоит проверить помещение на наличие посторонних лиц.\\nКадр с камеры видеонаблюдения:\",\\\n",
    "           file)"
   ]
  },
  {
   "cell_type": "code",
   "execution_count": null,
   "metadata": {},
   "outputs": [],
   "source": []
  }
 ],
 "metadata": {
  "kernelspec": {
   "display_name": "Python 3",
   "language": "python",
   "name": "python3"
  },
  "language_info": {
   "codemirror_mode": {
    "name": "ipython",
    "version": 3
   },
   "file_extension": ".py",
   "mimetype": "text/x-python",
   "name": "python",
   "nbconvert_exporter": "python",
   "pygments_lexer": "ipython3",
   "version": "3.8.2"
  }
 },
 "nbformat": 4,
 "nbformat_minor": 4
}
